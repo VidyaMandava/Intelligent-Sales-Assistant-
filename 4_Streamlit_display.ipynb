{
 "cells": [
  {
   "cell_type": "code",
   "execution_count": 0,
   "metadata": {
    "application/vnd.databricks.v1+cell": {
     "cellMetadata": {
      "byteLimit": 2048000,
      "rowLimit": 10000
     },
     "inputWidgets": {},
     "nuid": "5d74e9ed-1b7b-4287-b666-09843b2f2abd",
     "showTitle": false,
     "title": ""
    }
   },
   "outputs": [],
   "source": [
    "#pip install streamlit\n",
    "# dbutils.library.restartPython()"
   ]
  },
  {
   "cell_type": "code",
   "execution_count": 0,
   "metadata": {
    "application/vnd.databricks.v1+cell": {
     "cellMetadata": {
      "byteLimit": 2048000,
      "rowLimit": 10000
     },
     "inputWidgets": {},
     "nuid": "b42bb250-fb08-47af-9cd7-84e2fc75422d",
     "showTitle": false,
     "title": ""
    }
   },
   "outputs": [],
   "source": [
    "# Load the table back into a DataFrame\n",
    "chat_completion_dataset2 = spark.table(\"chat_completion_dataset\")"
   ]
  },
  {
   "cell_type": "code",
   "execution_count": 0,
   "metadata": {
    "application/vnd.databricks.v1+cell": {
     "cellMetadata": {
      "byteLimit": 2048000,
      "rowLimit": 10000
     },
     "inputWidgets": {},
     "nuid": "64d2050d-2392-48b8-933a-a1f04e93ea72",
     "showTitle": false,
     "title": ""
    }
   },
   "outputs": [],
   "source": [
    "#converting to pandas df\n",
    "chat_completion_dataset_pd = chat_completion_dataset2.toPandas()"
   ]
  },
  {
   "cell_type": "code",
   "execution_count": 0,
   "metadata": {
    "application/vnd.databricks.v1+cell": {
     "cellMetadata": {
      "byteLimit": 2048000,
      "rowLimit": 10000
     },
     "inputWidgets": {},
     "nuid": "2ed8b379-3911-43bd-bec3-b59353ea6a80",
     "showTitle": false,
     "title": ""
    }
   },
   "outputs": [
    {
     "output_type": "stream",
     "name": "stderr",
     "output_type": "stream",
     "text": [
      "2024-10-08 04:08:28.139 Thread 'MainThread': missing ScriptRunContext! This warning can be ignored when running in bare mode.\n2024-10-08 04:08:28.144 Thread 'MainThread': missing ScriptRunContext! This warning can be ignored when running in bare mode.\n2024-10-08 04:08:28.145 Thread 'MainThread': missing ScriptRunContext! This warning can be ignored when running in bare mode.\n2024-10-08 04:08:28.163 Thread 'MainThread': missing ScriptRunContext! This warning can be ignored when running in bare mode.\n2024-10-08 04:08:28.165 Thread 'MainThread': missing ScriptRunContext! This warning can be ignored when running in bare mode.\n2024-10-08 04:08:28.170 Thread 'MainThread': missing ScriptRunContext! This warning can be ignored when running in bare mode.\n2024-10-08 04:08:28.171 Thread 'MainThread': missing ScriptRunContext! This warning can be ignored when running in bare mode.\n2024-10-08 04:08:28.172 Session state does not function when running a script without `streamlit run`\n2024-10-08 04:08:28.174 Thread 'MainThread': missing ScriptRunContext! This warning can be ignored when running in bare mode.\n2024-10-08 04:08:28.175 Thread 'MainThread': missing ScriptRunContext! This warning can be ignored when running in bare mode.\n2024-10-08 04:08:28.207 Thread 'MainThread': missing ScriptRunContext! This warning can be ignored when running in bare mode.\n2024-10-08 04:08:28.208 Thread 'MainThread': missing ScriptRunContext! This warning can be ignored when running in bare mode.\n2024-10-08 04:08:28.209 Thread 'MainThread': missing ScriptRunContext! This warning can be ignored when running in bare mode.\n2024-10-08 04:08:28.209 Thread 'MainThread': missing ScriptRunContext! This warning can be ignored when running in bare mode.\n2024-10-08 04:08:28.212 Thread 'MainThread': missing ScriptRunContext! This warning can be ignored when running in bare mode.\n2024-10-08 04:08:28.214 Thread 'MainThread': missing ScriptRunContext! This warning can be ignored when running in bare mode.\n2024-10-08 04:08:28.214 Thread 'MainThread': missing ScriptRunContext! This warning can be ignored when running in bare mode.\n2024-10-08 04:08:28.215 Thread 'MainThread': missing ScriptRunContext! This warning can be ignored when running in bare mode.\n2024-10-08 04:08:28.216 Thread 'MainThread': missing ScriptRunContext! This warning can be ignored when running in bare mode.\n2024-10-08 04:08:28.216 Thread 'MainThread': missing ScriptRunContext! This warning can be ignored when running in bare mode.\n2024-10-08 04:08:28.217 Thread 'MainThread': missing ScriptRunContext! This warning can be ignored when running in bare mode.\n2024-10-08 04:08:28.219 Thread 'MainThread': missing ScriptRunContext! This warning can be ignored when running in bare mode.\n2024-10-08 04:08:28.221 Thread 'MainThread': missing ScriptRunContext! This warning can be ignored when running in bare mode.\n2024-10-08 04:08:28.222 Thread 'MainThread': missing ScriptRunContext! This warning can be ignored when running in bare mode.\n2024-10-08 04:08:28.223 Thread 'MainThread': missing ScriptRunContext! This warning can be ignored when running in bare mode.\n2024-10-08 04:08:28.225 Thread 'MainThread': missing ScriptRunContext! This warning can be ignored when running in bare mode.\n2024-10-08 04:08:28.225 Thread 'MainThread': missing ScriptRunContext! This warning can be ignored when running in bare mode.\n2024-10-08 04:08:28.226 Thread 'MainThread': missing ScriptRunContext! This warning can be ignored when running in bare mode.\n2024-10-08 04:08:28.227 Thread 'MainThread': missing ScriptRunContext! This warning can be ignored when running in bare mode.\n2024-10-08 04:08:28.228 Thread 'MainThread': missing ScriptRunContext! This warning can be ignored when running in bare mode.\n2024-10-08 04:08:28.230 Thread 'MainThread': missing ScriptRunContext! This warning can be ignored when running in bare mode.\n2024-10-08 04:08:28.231 Thread 'MainThread': missing ScriptRunContext! This warning can be ignored when running in bare mode.\n2024-10-08 04:08:28.232 Thread 'MainThread': missing ScriptRunContext! This warning can be ignored when running in bare mode.\n2024-10-08 04:08:28.233 Thread 'MainThread': missing ScriptRunContext! This warning can be ignored when running in bare mode.\n2024-10-08 04:08:28.233 Thread 'MainThread': missing ScriptRunContext! This warning can be ignored when running in bare mode.\n2024-10-08 04:08:28.234 Thread 'MainThread': missing ScriptRunContext! This warning can be ignored when running in bare mode.\n2024-10-08 04:08:28.235 Thread 'MainThread': missing ScriptRunContext! This warning can be ignored when running in bare mode.\n2024-10-08 04:08:28.235 Thread 'MainThread': missing ScriptRunContext! This warning can be ignored when running in bare mode.\n2024-10-08 04:08:28.236 Thread 'MainThread': missing ScriptRunContext! This warning can be ignored when running in bare mode.\n2024-10-08 04:08:28.237 Thread 'MainThread': missing ScriptRunContext! This warning can be ignored when running in bare mode.\n2024-10-08 04:08:28.238 Thread 'MainThread': missing ScriptRunContext! This warning can be ignored when running in bare mode.\n2024-10-08 04:08:28.238 Thread 'MainThread': missing ScriptRunContext! This warning can be ignored when running in bare mode.\n2024-10-08 04:08:28.239 Thread 'MainThread': missing ScriptRunContext! This warning can be ignored when running in bare mode.\n2024-10-08 04:08:28.240 Thread 'MainThread': missing ScriptRunContext! This warning can be ignored when running in bare mode.\n2024-10-08 04:08:28.240 Thread 'MainThread': missing ScriptRunContext! This warning can be ignored when running in bare mode.\n2024-10-08 04:08:28.245 Thread 'MainThread': missing ScriptRunContext! This warning can be ignored when running in bare mode.\n2024-10-08 04:08:28.246 Thread 'MainThread': missing ScriptRunContext! This warning can be ignored when running in bare mode.\n2024-10-08 04:08:28.247 Thread 'MainThread': missing ScriptRunContext! This warning can be ignored when running in bare mode.\n2024-10-08 04:08:28.247 Thread 'MainThread': missing ScriptRunContext! This warning can be ignored when running in bare mode.\n2024-10-08 04:08:28.248 Thread 'MainThread': missing ScriptRunContext! This warning can be ignored when running in bare mode.\n2024-10-08 04:08:28.249 Thread 'MainThread': missing ScriptRunContext! This warning can be ignored when running in bare mode.\n2024-10-08 04:08:28.250 Thread 'MainThread': missing ScriptRunContext! This warning can be ignored when running in bare mode.\n2024-10-08 04:08:28.252 Thread 'MainThread': missing ScriptRunContext! This warning can be ignored when running in bare mode.\n2024-10-08 04:08:28.261 Thread 'MainThread': missing ScriptRunContext! This warning can be ignored when running in bare mode.\n2024-10-08 04:08:28.262 Thread 'MainThread': missing ScriptRunContext! This warning can be ignored when running in bare mode.\n2024-10-08 04:08:28.263 Thread 'MainThread': missing ScriptRunContext! This warning can be ignored when running in bare mode.\n2024-10-08 04:08:28.263 Thread 'MainThread': missing ScriptRunContext! This warning can be ignored when running in bare mode.\n2024-10-08 04:08:28.264 Thread 'MainThread': missing ScriptRunContext! This warning can be ignored when running in bare mode.\n2024-10-08 04:08:28.264 Thread 'MainThread': missing ScriptRunContext! This warning can be ignored when running in bare mode.\n2024-10-08 04:08:28.265 Thread 'MainThread': missing ScriptRunContext! This warning can be ignored when running in bare mode.\n2024-10-08 04:08:28.266 Thread 'MainThread': missing ScriptRunContext! This warning can be ignored when running in bare mode.\n2024-10-08 04:08:28.266 Thread 'MainThread': missing ScriptRunContext! This warning can be ignored when running in bare mode.\n2024-10-08 04:08:28.268 Thread 'MainThread': missing ScriptRunContext! This warning can be ignored when running in bare mode.\n"
     ]
    }
   ],
   "source": [
    "import streamlit as st\n",
    "import pandas as pd\n",
    "\n",
    "# Set up the Streamlit page configuration\n",
    "st.set_page_config(page_title=\"HCP Assignment Dashboard\", layout=\"wide\")\n",
    "\n",
    "# Function to display HCP Briefing\n",
    "def display_briefing(hcp_row):\n",
    "    st.subheader(f\"HCP: {hcp_row['HCP_Name']}\")\n",
    "    st.write(f\"**Specialty**: {hcp_row['Specialty']}\")\n",
    "    st.write(f\"**Preferred Drug**: {hcp_row['hcp_Preferred_Drug']}\")\n",
    "    st.write(f\"**Communication Preference**: {hcp_row['Communication_Pref']}\")\n",
    "    st.write(f\"**Preferred Meeting Type**: {hcp_row['Preferred_Meeting_Type']}\")\n",
    "    st.write(f\"**Meeting Outcome**: {hcp_row['Meeting_Outcome']}\")\n",
    "    st.write(f\"**Product Presented**: {hcp_row['Product_Presented']}\")\n",
    "    st.write(f\"**Distance from Agent**: {round(hcp_row['Distance'], 2)} km\")\n",
    "    st.write(f\"**Avg Daily Patients**: {hcp_row['Avg_Daily_Patients']}\")\n",
    "    \n",
    "    # Prescription Patterns\n",
    "    st.write(\"### 💊 Prescription Patterns:\")\n",
    "    st.table({\n",
    "        \"Drug\": [\"Drug A\", \"Drug B\", \"Drug C\", \"Other Drugs\"],\n",
    "        \"Prescriptions\": [\n",
    "            hcp_row['Drug_A_Prescriptions'], \n",
    "            hcp_row['Drug_B_Prescriptions'], \n",
    "            hcp_row['Drug_C_Prescriptions'], \n",
    "            hcp_row['Other_Drugs_Prescriptions']\n",
    "        ]\n",
    "    })\n",
    "    \n",
    "    st.write(f\"**Therapeutic Focus**: {hcp_row['Therapeutic_Focus']}\")\n",
    "    st.write(f\"**Last Interaction Notes**: {hcp_row['Notes']}\")\n",
    "    \n",
    "\n",
    "# Display Predictions\n",
    "# def display_predictions(hcp_row):\n",
    "#     st.write(\"### 🔮 Predictions\")\n",
    "#     # Add prediction data here if available\n",
    "#     st.write(\"Predicted Engagement Level: High\")\n",
    "#     st.write(\"Recommended Action: Focus on Drug B promotion\")\n",
    "\n",
    "# Display Header\n",
    "st.title(\"HCP Assignment & Briefing Dashboard\")\n",
    "\n",
    "# Filter for specific HCP (user input)\n",
    "hcp_names = chat_completion_dataset_pd['HCP_Name'].unique()\n",
    "selected_hcp = st.selectbox(\"Select HCP to view briefing\", hcp_names)\n",
    "\n",
    "# Filter the dataset based on selected HCP\n",
    "hcp_row = chat_completion_dataset_pd[chat_completion_dataset_pd['HCP_Name'] == selected_hcp].iloc[0]\n",
    "\n",
    "# Display HCP Briefing\n",
    "st.write(\"## Briefing Pack\")\n",
    "display_briefing(hcp_row)\n",
    "\n",
    "# Display Predictions\n",
    "# st.write(\"## Predictions & Recommendations\")\n",
    "# display_predictions(hcp_row)\n",
    "\n",
    "# Run the Streamlit app\n"
   ]
  }
 ],
 "metadata": {
  "application/vnd.databricks.v1+notebook": {
   "dashboards": [],
   "environmentMetadata": {
    "base_environment": "",
    "client": "1"
   },
   "language": "python",
   "notebookMetadata": {
    "pythonIndentUnit": 4
   },
   "notebookName": "4_Streamlit_display",
   "widgets": {}
  }
 },
 "nbformat": 4,
 "nbformat_minor": 0
}
